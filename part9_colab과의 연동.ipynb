{
 "cells": [
  {
   "cell_type": "markdown",
   "metadata": {},
   "source": [
    "# colab과의 연동\n",
    "---\n",
    "\n",
    "와 세상에\n",
    "\n",
    "딥러닝 하는 사람들은 코랩을 사용하면 GPU가 무료라서 더 편해요!!!\n",
    "\n",
    "해놓고 어떻게 쓰라는건지 잘 모르겠다....\n",
    "\n",
    "구글링으로 힘들게 찾은 것들을 여기에 풀어쓰자\n",
    "\n"
   ]
  },
  {
   "cell_type": "markdown",
   "metadata": {},
   "source": [
    "### 1. 깃허브와 colab\n",
    "---\n",
    "깃허브와 코랩을 연동하는 방법은 딱 3가지가 있다.\n",
    "\n",
    "1. 깃허브의 저장소를 토큰을 발급받아서 구글 드라이브랑 연동시켜버리기\n",
    "\n",
    "2. 깃허브의 .ipynb 파일을 코랩에서 열기\n",
    "\n",
    "3. colab를 ngrok를 이용해서 서버를 열어버리고 그 서버를 VScode에 연결해서 VScode에서 GPU를 사용한다 ~~와! 신난다~~\n",
    "\n",
    "근데 1번의 경우 방법이 복잡한데다가 코랩이 그렇게 친절하진 않은지 코딩 초보자 입장에서는 이거 하는것 자체가 지옥맛이다.\n",
    "\n",
    "무엇보다 구글 드라이브에 마운트해서 연결했다 해도.... 코랩에서 다시 파일을 찾아내야하고 경로를 알아야 하고.... 게다가 깃을 cmd로 입력해야 한다(!!!!)  \n",
    "\n",
    "물론 어려운건 아닌데 굳이 gitfork같은 멋진 Gui가 존재하는데...?\n",
    "\n",
    "거 참 맘에 안든다. 많이 안든다. 이거 연동해보겠다고 하루종일 구글링했는데 잘 안됬다.\n",
    "\n",
    "만약 했다고 치자 그렇지만 이 멋진 VScode를 사용할 수 없다. 오로지 코딩을 colab에서만 해야한다. \n",
    "\n",
    "그래서 난 2번을 사용하겠다.\n",
    "\n",
    "2번의 경우 장점은 Vscode에서 열심히 코딩하고 그것을 바탕으로 깃허브에 올리기만 하면 된다. 그냥 이전과 별 다를것 없이 코딩하면 그만 단지 여는걸 코랩에서 열면 된다.\n",
    "\n",
    "물론 단점도 있다.\n",
    "\n",
    "단점은 뭐 하나 삑사리나서 고쳐야 할려면 처음부터 vscode에서 확인해야하고 수정한뒤 깃허브에 다시 올리고 그걸 또다시 코랩에서 열어야 한다. 엄청 귀찮다.\n",
    "\n",
    "이는 다시 1번의 장점이 되긴 하는데 개인취향을 많이 탄다\n",
    "\n",
    "3번은 그냥 쳐다보지도 말자\n",
    "\n",
    "어쩌다가 알아낸 방법인데 뭣도 모르고 하겠다고 까불었다가 마지막 단계에서 VScode에서 서버를 연결하는 곳에서 무려 2시간이나 잡아먹고 포기했다.\n",
    "\n",
    "~~에초에 3번을 할 수 있으면 이런 공부를 안했을 것이다~~\n"
   ]
  },
  {
   "cell_type": "markdown",
   "metadata": {},
   "source": [
    "### 2. 깃허브의 .ipynb 파일을 코랩에서 열기\n",
    "---\n",
    "1. 코랩에서 여는법\n",
    "    - https://colab.research.google.com/github/ 와 열고 싶은 .ipynb 파일 링크를 복사한다.\n",
    "\n",
    "    - https://github.com/Oh-Taegyun/Pytorch_study/blob/main/part8_CNN%20%EC%A0%9C%EC%9E%91%ED%95%98%EA%B8%B0.ipynb\n",
    "\n",
    "    - 여기서 github.com에 있는 .com을 지워버리고 위의 링크와 합치면 된다.\n",
    "\n",
    "    - 완성 : https://colab.research.google.com/github/Oh-Taegyun/Pytorch_study/blob/main/part8_CNN%20%EC%A0%9C%EC%9E%91%ED%95%98%EA%B8%B0.ipynb\n",
    "\n",
    "2. 깃허브에 open in colab 로고 삽입법!\n",
    "\n",
    "아래에 있는 문장을 추가하면 된다. 띄어쓰기 주의! 마크다운 실행하면 자꾸 링크가 지워져서 일부러 띄어쓴거라 꼭 붙이기\n",
    "\n",
    "[![open in colab](https://colab.research.google.com/assets/colab-badge.svg)](합친주소)\n",
    "\n",
    "\n",
    "[ ! [open in colab] (https://colab.research.google.com/assets/colab-badge.svg) ] (합친주소) "
   ]
  },
  {
   "cell_type": "markdown",
   "metadata": {},
   "source": [
    "### 3. 모델을 구글 드라이브에 저장하고 재사용하기\n",
    "---\n",
    "모델을 구축해서 열심히 학습시켰는데 정작 학습된 매개변수가 날아가버리면 말짱 도루묵이 되어버린다.\n",
    "\n",
    "따라서 우리는 모델을 구글 드라이브에 저장할 수 있는 방법을 알아야 한다.\n",
    "\n",
    "\n",
    "1. 구글 드라이브를 마운트하기\n",
    "     - from google.colab import drive <p> drive.mount('/content/gdrive')\n",
    "\n",
    "\n",
    "2. 드라이브 내용을 보기\n",
    "     - !ls /content/gdrive/MyDrive\n",
    "\n",
    "3. 드라이브 경로 파악하기 \n",
    "     - 앞서 !ls를 이용해서 파악하면 된다. \n",
    "\n",
    "4. 체크포인트 저장하기\n",
    "     - 먼저 구글 드라이브를 마운트 했는지 확인해야 한다 \n",
    "     - torch.save()에서 경로를 구글 드라이브 경로로 지정한다.\n",
    "\n",
    "     "
   ]
  },
  {
   "cell_type": "markdown",
   "metadata": {},
   "source": [
    "### 4. 코랩 전용 코드\n",
    "---\n",
    "\n",
    "이것만 붙여넣으면 끝!\n",
    "\n",
    "from google.colab import drive\n",
    "drive.mount('/content/gdrive')\n",
    "\n",
    "!ls /content/gdrive/MyDrive/hymenoptera_data\n",
    "\n",
    "[![open in colab](https://colab.research.google.com/assets/colab-badge.svg)](합친주소)\n"
   ]
  },
  {
   "cell_type": "markdown",
   "metadata": {},
   "source": []
  }
 ],
 "metadata": {
  "kernelspec": {
   "display_name": "Python 3.9.0 ('Pytorch_studing')",
   "language": "python",
   "name": "python3"
  },
  "language_info": {
   "name": "python",
   "version": "3.9.0"
  },
  "orig_nbformat": 4,
  "vscode": {
   "interpreter": {
    "hash": "2d060f0828fc2b117241290c294bd7cf3e183c40a44f56e1a2627712ee0c7af9"
   }
  }
 },
 "nbformat": 4,
 "nbformat_minor": 2
}
