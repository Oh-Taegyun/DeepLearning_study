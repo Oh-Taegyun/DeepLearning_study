{
 "cells": [
  {
   "cell_type": "markdown",
   "metadata": {},
   "source": [
    "# 토치비전이란?\n",
    "---\n",
    "토치비전(torchvision)은 파이토치에서 제공하는 데이터셋들이 모여 있는 패키지입니다.\n",
    "> 토치비전 링크 : https://pytorch.org/vision/stable/index.html, https://pytorch.org/vision/stable/\n",
    "\n",
    "``` py\n",
    "import torchvision\n",
    "import torchvision.transforms as transforms # 데이터 전처리를 위해 사용하는 라이브러리\n",
    "import torchvision.models as models # 다양한 파이토치 네트워크를 사용할 수 있도록 도와주는 패키지\n",
    "\n",
    "```\n",
    "\n",
    "### 1. torchvision.transfrom\n",
    "---\n",
    "이미지 데이터를 변환하여 모델(네트워크)의 입력으로 사용할 수 있게 변환해 줍니다.\n"
   ]
  },
  {
   "cell_type": "code",
   "execution_count": null,
   "metadata": {},
   "outputs": [],
   "source": [
    "import torchvision\n",
    "import torchvision.transforms as transforms\n",
    "\n",
    "transform = transform.Compose(\n",
    "    [\n",
    "        transforms.Resize([256, 256]), \n",
    "        transforms.RandomResizedCrop(224),\n",
    "        transforms.RandomHorizontalFlip(), \n",
    "        transforms.ToTensor()\n",
    "    ]\n",
    ")"
   ]
  },
  {
   "cell_type": "markdown",
   "metadata": {},
   "source": [
    "1. transforms.Resize([256, 256])\n",
    "    - Resize: 이미지를 랜덤한 크기 및 비율로 자른다.\n",
    "    #\n",
    "\n",
    "2. transforms.RandomResizedCrop(224) \n",
    "    - 이미지를 랜덤한 크기 및 비율로 자른다. \n",
    "    - Resize와는 살짝 뉘양스가 다르다. \n",
    "    - Resize는 합성곱층을 통과하기 위해 이미지 크기를 조정하는 전처리 과정\n",
    "    - RandomResizedCrop는 데이터의 확장 용도, 이미지를 랜덤한 비율로 자른 후 데이터 크기를 재조정한다. 데이터 확장을 위해 이미지를 기울이거나 뒤집거나 하는 이유랑 같은 이유\n",
    "    #\n",
    "\n",
    "3. transforms.RandomHorizontalFlip()\n",
    "    - 이미지를 랜덤하게 수형으로 뒤집는다. \n",
    "    #\n",
    "\n",
    "4. transforms.ToTensor()\n",
    "    - 이미지 데이터를 텐서로 변환합니다."
   ]
  },
  {
   "cell_type": "markdown",
   "metadata": {},
   "source": [
    "### 2. datasets.ImageFolder\n",
    "---\n",
    "datasets.ImageFolder는 데이터로더가 데이터를 불러올 대상(혹은  경로)와 방법(혹은 전처리)을 정의한다."
   ]
  },
  {
   "cell_type": "code",
   "execution_count": null,
   "metadata": {},
   "outputs": [],
   "source": [
    "trans_dataset = torchvision.datasets.ImageFolder(data_path, transform=transform)"
   ]
  },
  {
   "cell_type": "markdown",
   "metadata": {},
   "source": [
    "1. data_path : 데이터 경로\n",
    "2. 이미지 데이터에 대한 전처리\n"
   ]
  },
  {
   "cell_type": "markdown",
   "metadata": {},
   "source": [
    "### 3. "
   ]
  }
 ],
 "metadata": {
  "kernelspec": {
   "display_name": "Python 3.9.0 ('Pytorch_studing')",
   "language": "python",
   "name": "python3"
  },
  "language_info": {
   "name": "python",
   "version": "3.9.0"
  },
  "orig_nbformat": 4,
  "vscode": {
   "interpreter": {
    "hash": "2d060f0828fc2b117241290c294bd7cf3e183c40a44f56e1a2627712ee0c7af9"
   }
  }
 },
 "nbformat": 4,
 "nbformat_minor": 2
}
