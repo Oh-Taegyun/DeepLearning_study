{
 "cells": [
  {
   "cell_type": "markdown",
   "id": "fe65cc9d-0e28-40cc-81e8-0dce657424e2",
   "metadata": {},
   "source": [
    "# 주피터 노트북 사용 방법!\n",
    "\n",
    "1.  셀을 누른 뒤에 `a` 버튼을 누르면 위에 셀이 하나 생긴다\n",
    "\n",
    "2.  `shift + Enter` 키를 누르면 셀이 실행되고 커서가 다음 셀로 이동합니다\n",
    "\n",
    "3.  `Enter` 키를 누르면 다시 편집상대로 돌아옵니다\n",
    "\n",
    "4.  ESC 키를 누르고\n",
    "    - `a`키를 누르면 위에 셀이 추가됩니다\n",
    "    - `b`키를 누르면 아래에 셀이 추가됩니다\n",
    "    - `dd`키를 누르면 셀이 삭제됩니다\n",
    "    - `m` 키를 누르면 문서 셀로 변경됩니다.\n",
    "    - `y` 키를 누르면 코드 셀로 변경됩니다. \n",
    "    \n",
    "5.  `h`키를 누르면 커멘드 목록이 뜬다. \n",
    "   "
   ]
  },
  {
   "cell_type": "code",
   "execution_count": null,
   "id": "44f71fab-059a-4aa3-acab-26e158208940",
   "metadata": {},
   "outputs": [],
   "source": []
  },
  {
   "cell_type": "code",
   "execution_count": null,
   "id": "e2321971-26ca-4730-89b6-f83d7924e74e",
   "metadata": {},
   "outputs": [],
   "source": []
  }
 ],
 "metadata": {
  "kernelspec": {
   "display_name": "Pytorch_studing",
   "language": "python",
   "name": "pytorch_studing"
  },
  "language_info": {
   "codemirror_mode": {
    "name": "ipython",
    "version": 3
   },
   "file_extension": ".py",
   "mimetype": "text/x-python",
   "name": "python",
   "nbconvert_exporter": "python",
   "pygments_lexer": "ipython3",
   "version": "3.9.0"
  }
 },
 "nbformat": 4,
 "nbformat_minor": 5
}
