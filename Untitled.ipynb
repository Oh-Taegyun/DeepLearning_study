{
 "cells": [
  {
   "cell_type": "code",
   "execution_count": null,
   "id": "1e60f7ce",
   "metadata": {},
   "outputs": [],
   "source": []
  }
 ],
 "metadata": {
  "kernelspec": {
   "display_name": "Pytorch_studing",
   "language": "python",
   "name": "pytorch_studing"
  }
 },
 "nbformat": 4,
 "nbformat_minor": 5
}
